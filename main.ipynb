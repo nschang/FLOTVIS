{
 "cells": [
  {
   "cell_type": "markdown",
   "source": [
    "# FLOTVIS:\n",
    "## a YOLOv4/TF-Keras based floating plastic debris detector\n",
    "\n",
    "This code is designed to run on Google Colab <https://colab.research.google.com/>\n",
    "\n",
    "<table class=\"tfo-notebook-buttons\" align=\"left\">\n",
    "  <td>\n",
    "    <a target=\"_blank\" href=\"https://colab.research.google.com/\"><img src=\"https://www.tensorflow.org/images/colab_logo_32px.png\" />Run in Google Colab</a>\n",
    "  </td>\n",
    "  <td>\n",
    "    <a target=\"_blank\" href=\"https://github.com/nschang/FLOTVIS\"><img src=\"https://www.tensorflow.org/images/GitHub-Mark-32px.png\" />View source on GitHub</a>\n",
    "  </td>\n",
    "</table>\n"
   ],
   "metadata": {}
  },
  {
   "cell_type": "markdown",
   "source": [
    "# Working on Colab"
   ],
   "metadata": {}
  },
  {
   "cell_type": "code",
   "execution_count": null,
   "source": [
    "# # uncomment if using Colab\n",
    "# # mount Google Drive\n",
    "# from google.colab import drive\n",
    "# drive.mount('/content/drive')\n",
    "# ################################\n",
    "# DRIVE_PATH = '/content/drive/MyDrive'\n",
    "# ################################\n",
    "# import tensorflow\n",
    "# # select tensorflow version\n",
    "# %tensorflow_version 1.x"
   ],
   "outputs": [],
   "metadata": {}
  },
  {
   "cell_type": "code",
   "execution_count": null,
   "source": [
    "# Google Colab Commandline upload/download\n",
    "# upload\n",
    "from google.colab import files\n",
    "files.upload()\n",
    "# download\n",
    "from google.colab import files\n",
    "files.download('/content/yolov4-keras-2/requirements.txt')"
   ],
   "outputs": [],
   "metadata": {}
  },
  {
   "cell_type": "markdown",
   "source": [
    "## Clone from Github"
   ],
   "metadata": {
    "id": "5YJyxoTHf8lc"
   }
  },
  {
   "cell_type": "code",
   "execution_count": null,
   "source": [
    "!git clone https://github.com/nschang/FLOTVIS.git"
   ],
   "outputs": [],
   "metadata": {}
  },
  {
   "cell_type": "markdown",
   "source": [
    "## Download Dataset"
   ],
   "metadata": {}
  },
  {
   "cell_type": "code",
   "execution_count": null,
   "source": [
    "# import dataset\n",
    "# also removes old dataset if present\n",
    "#!rm -rf results train val VOCdevkit/VOC2007/Annotations VOCdevkit/VOC2007/JPEGImages vision_for_anchors.jpg predict.jpg prediction\n",
    "LOCAL_PATH = cwd + '/VOCdevkit/VOC2007'\n",
    "REMOTE_PATH = 'https://dataset.zip'\n",
    "\n",
    "!wget -nc $LOCAL_PATH/dataset.zip $REMOTE_PATH\n",
    "%cd $cwd/VOCdevkit/VOC2007/\n",
    "!unzip dataset.zip\n",
    "!rm -rf __MACOSX dataset.zip"
   ],
   "outputs": [],
   "metadata": {
    "id": "lDMept1wYIn5"
   }
  },
  {
   "cell_type": "markdown",
   "source": [
    "# Define Variables"
   ],
   "metadata": {
    "id": "MHaivvzxgCGW"
   }
  },
  {
   "cell_type": "code",
   "execution_count": 7,
   "source": [
    "import os\n",
    "################\n",
    "#SAVE_PATH = 'FLOTVIS'   # name of workspace\n",
    "cwd = os.getcwd()        # current working directory\n",
    "LOG_PATH = 'train'       # where to save training data\n",
    "RESULT_PATH = 'results'  # where to save evaluation data\n",
    "################\n",
    "%cd $cwd\n",
    "!pwd"
   ],
   "outputs": [
    {
     "output_type": "stream",
     "name": "stdout",
     "text": [
      "/Volumes/Extreme-SSD/thesis/FLOTVIS\n",
      "/Volumes/Extreme-SSD/thesis/FLOTVIS\r\n"
     ]
    }
   ],
   "metadata": {
    "colab": {
     "base_uri": "https://localhost:8080/"
    },
    "executionInfo": {
     "elapsed": 21,
     "status": "ok",
     "timestamp": 1630832690175,
     "user": {
      "displayName": "user4856",
      "photoUrl": "https://lh3.googleusercontent.com/a-/AOh14GjGXgwWDSyceF9cChEBnStb3nIaSSfSUg9KMb6XNw=s64",
      "userId": "00128029891547034217"
     },
     "user_tz": -120
    },
    "id": "Sq_KlELBgqDK",
    "outputId": "ba2b7849-5bc2-4688-b63d-50b89df4fe89"
   }
  },
  {
   "cell_type": "markdown",
   "source": [
    "# Install Dependencies"
   ],
   "metadata": {
    "id": "8WQ5SmHoxCTA"
   }
  },
  {
   "cell_type": "code",
   "execution_count": null,
   "source": [
    "%cd $cwd\n",
    "!pip install -r $cwd/requirements.txt"
   ],
   "outputs": [],
   "metadata": {
    "colab": {
     "base_uri": "https://localhost:8080/"
    },
    "executionInfo": {
     "elapsed": 5874,
     "status": "ok",
     "timestamp": 1630832702797,
     "user": {
      "displayName": "user4856",
      "photoUrl": "https://lh3.googleusercontent.com/a-/AOh14GjGXgwWDSyceF9cChEBnStb3nIaSSfSUg9KMb6XNw=s64",
      "userId": "00128029891547034217"
     },
     "user_tz": -120
    },
    "id": "HV0B_HAhzIfE",
    "outputId": "35c42de6-4569-49a9-80e4-70dade9a9165"
   }
  },
  {
   "cell_type": "code",
   "execution_count": 8,
   "source": [
    "# show installed environment\n",
    "!pip show tensorflow-estimator\n",
    "!echo '--------'\n",
    "!pip show keras\n",
    "!echo '--------'\n",
    "!pip show h5py\n",
    "!echo '--------'\n",
    "# check tensorflow version and active GPU device\n",
    "import tensorflow as tf\n",
    "print('tensorflow version is ', tf.__version__)\n",
    "tf.test.gpu_device_name() # '/device:GPU:0' means active GPU\n",
    "# get GPU Info\n",
    "# !nvidia-smi"
   ],
   "outputs": [
    {
     "output_type": "stream",
     "name": "stdout",
     "text": [
      "\u001b[33mWARNING: Package(s) not found: tensorflow-estimator\u001b[0m\n",
      "--------\n",
      "Name: Keras\n",
      "Version: 2.1.5\n",
      "Summary: Deep Learning for humans\n",
      "Home-page: https://github.com/keras-team/keras\n",
      "Author: Francois Chollet\n",
      "Author-email: francois.chollet@gmail.com\n",
      "License: MIT\n",
      "Location: /Users/nick/.pyenv/versions/3.6.9/envs/venv/lib/python3.6/site-packages\n",
      "Requires: six, pyyaml, scipy, numpy\n",
      "Required-by: \n",
      "--------\n",
      "Name: h5py\n",
      "Version: 2.10.0\n",
      "Summary: Read and write HDF5 files from Python\n",
      "Home-page: http://www.h5py.org\n",
      "Author: Andrew Collette\n",
      "Author-email: andrew.collette@gmail.com\n",
      "License: BSD\n",
      "Location: /Users/nick/.pyenv/versions/3.6.9/envs/venv/lib/python3.6/site-packages\n",
      "Requires: numpy, six\n",
      "Required-by: \n",
      "--------\n"
     ]
    },
    {
     "output_type": "error",
     "ename": "ModuleNotFoundError",
     "evalue": "No module named 'tensorflow'",
     "traceback": [
      "\u001b[0;31m---------------------------------------------------------------------------\u001b[0m",
      "\u001b[0;31mModuleNotFoundError\u001b[0m                       Traceback (most recent call last)",
      "\u001b[0;32m/var/folders/4n/1cxbs1jj3pj3nckp0nrz3vb40000gn/T/ipykernel_70360/4106618548.py\u001b[0m in \u001b[0;36m<module>\u001b[0;34m\u001b[0m\n\u001b[1;32m      7\u001b[0m \u001b[0mget_ipython\u001b[0m\u001b[0;34m(\u001b[0m\u001b[0;34m)\u001b[0m\u001b[0;34m.\u001b[0m\u001b[0msystem\u001b[0m\u001b[0;34m(\u001b[0m\u001b[0;34m\"echo '--------'\"\u001b[0m\u001b[0;34m)\u001b[0m\u001b[0;34m\u001b[0m\u001b[0;34m\u001b[0m\u001b[0m\n\u001b[1;32m      8\u001b[0m \u001b[0;31m# check tensorflow version and active GPU device\u001b[0m\u001b[0;34m\u001b[0m\u001b[0;34m\u001b[0m\u001b[0m\n\u001b[0;32m----> 9\u001b[0;31m \u001b[0;32mimport\u001b[0m \u001b[0mtensorflow\u001b[0m \u001b[0;32mas\u001b[0m \u001b[0mtf\u001b[0m\u001b[0;34m\u001b[0m\u001b[0;34m\u001b[0m\u001b[0m\n\u001b[0m\u001b[1;32m     10\u001b[0m \u001b[0mprint\u001b[0m\u001b[0;34m(\u001b[0m\u001b[0;34m'tensorflow version is '\u001b[0m\u001b[0;34m,\u001b[0m \u001b[0mtf\u001b[0m\u001b[0;34m.\u001b[0m\u001b[0m__version__\u001b[0m\u001b[0;34m)\u001b[0m\u001b[0;34m\u001b[0m\u001b[0;34m\u001b[0m\u001b[0m\n\u001b[1;32m     11\u001b[0m \u001b[0mtf\u001b[0m\u001b[0;34m.\u001b[0m\u001b[0mtest\u001b[0m\u001b[0;34m.\u001b[0m\u001b[0mgpu_device_name\u001b[0m\u001b[0;34m(\u001b[0m\u001b[0;34m)\u001b[0m \u001b[0;31m# '/device:GPU:0' means active GPU\u001b[0m\u001b[0;34m\u001b[0m\u001b[0;34m\u001b[0m\u001b[0m\n",
      "\u001b[0;31mModuleNotFoundError\u001b[0m: No module named 'tensorflow'"
     ]
    }
   ],
   "metadata": {
    "colab": {
     "base_uri": "https://localhost:8080/"
    },
    "executionInfo": {
     "elapsed": 16074,
     "status": "ok",
     "timestamp": 1630832722376,
     "user": {
      "displayName": "user4856",
      "photoUrl": "https://lh3.googleusercontent.com/a-/AOh14GjGXgwWDSyceF9cChEBnStb3nIaSSfSUg9KMb6XNw=s64",
      "userId": "00128029891547034217"
     },
     "user_tz": -120
    },
    "id": "JfBFxqqYmsnm",
    "outputId": "8a3cf985-24c6-4b12-8f26-18aeb1aa702f"
   }
  },
  {
   "cell_type": "markdown",
   "source": [
    "# --- Predict ---"
   ],
   "metadata": {}
  },
  {
   "cell_type": "code",
   "execution_count": 24,
   "source": [
    "import os\n",
    "from tqdm import tqdm\n",
    "image_ids1 = os.listdir('./test/')\n",
    "image_ids = [f for f in os.listdir('./test/') if f.endswith(\".jpg\")]\n",
    "print(tqdm(image_ids))\n",
    "print(image_ids1)\n",
    "print(image_ids)"
   ],
   "outputs": [
    {
     "output_type": "stream",
     "name": "stderr",
     "text": [
      "  0%|          | 0/1 [00:00<?, ?it/s]"
     ]
    },
    {
     "output_type": "stream",
     "name": "stdout",
     "text": [
      "  0%|          | 0/1 [00:00<?, ?it/s]\n",
      "['.DS_Store', 'test.mp4', 'test.jpg']\n",
      "['test.jpg']\n"
     ]
    },
    {
     "output_type": "stream",
     "name": "stderr",
     "text": [
      "\n"
     ]
    }
   ],
   "metadata": {}
  },
  {
   "cell_type": "markdown",
   "source": [
    "# Predict"
   ],
   "metadata": {
    "id": "6fUC86z6tmNG"
   }
  },
  {
   "cell_type": "code",
   "execution_count": 1,
   "source": [
    "%cd $cwd\n",
    "# get FPS\n",
    "!python3 main.py --mode='fps'"
   ],
   "outputs": [
    {
     "output_type": "stream",
     "name": "stdout",
     "text": [
      "[Errno 2] No such file or directory: '$cwd'\n",
      "/Volumes/Extreme-SSD/thesis/FLOTVIS\n",
      "Using TensorFlow backend.\n",
      "/Users/nick/.pyenv/versions/venv/lib/python3.6/site-packages/tensorflow/python/framework/dtypes.py:493: FutureWarning: Passing (type, 1) or '1type' as a synonym of type is deprecated; in a future version of numpy, it will be understood as (type, (1,)) / '(1,)type'.\n",
      "  _np_qint8 = np.dtype([(\"qint8\", np.int8, 1)])\n",
      "/Users/nick/.pyenv/versions/venv/lib/python3.6/site-packages/tensorflow/python/framework/dtypes.py:494: FutureWarning: Passing (type, 1) or '1type' as a synonym of type is deprecated; in a future version of numpy, it will be understood as (type, (1,)) / '(1,)type'.\n",
      "  _np_quint8 = np.dtype([(\"quint8\", np.uint8, 1)])\n",
      "/Users/nick/.pyenv/versions/venv/lib/python3.6/site-packages/tensorflow/python/framework/dtypes.py:495: FutureWarning: Passing (type, 1) or '1type' as a synonym of type is deprecated; in a future version of numpy, it will be understood as (type, (1,)) / '(1,)type'.\n",
      "  _np_qint16 = np.dtype([(\"qint16\", np.int16, 1)])\n",
      "/Users/nick/.pyenv/versions/venv/lib/python3.6/site-packages/tensorflow/python/framework/dtypes.py:496: FutureWarning: Passing (type, 1) or '1type' as a synonym of type is deprecated; in a future version of numpy, it will be understood as (type, (1,)) / '(1,)type'.\n",
      "  _np_quint16 = np.dtype([(\"quint16\", np.uint16, 1)])\n",
      "/Users/nick/.pyenv/versions/venv/lib/python3.6/site-packages/tensorflow/python/framework/dtypes.py:497: FutureWarning: Passing (type, 1) or '1type' as a synonym of type is deprecated; in a future version of numpy, it will be understood as (type, (1,)) / '(1,)type'.\n",
      "  _np_qint32 = np.dtype([(\"qint32\", np.int32, 1)])\n",
      "/Users/nick/.pyenv/versions/venv/lib/python3.6/site-packages/tensorflow/python/framework/dtypes.py:502: FutureWarning: Passing (type, 1) or '1type' as a synonym of type is deprecated; in a future version of numpy, it will be understood as (type, (1,)) / '(1,)type'.\n",
      "  np_resource = np.dtype([(\"resource\", np.ubyte, 1)])\n",
      "Traceback (most recent call last):\n",
      "  File \"main.py\", line 16, in <module>\n",
      "    from yolo import YOLO\n",
      "  File \"/Volumes/Extreme-SSD/thesis/FLOTVIS/yolo.py\", line 28, in <module>\n",
      "    from nets.yolo_net import yolo_body, yolo_process\n",
      "  File \"/Volumes/Extreme-SSD/thesis/FLOTVIS/nets/yolo_net.py\", line 13, in <module>\n",
      "    from utils.utils import compose\n",
      "  File \"/Volumes/Extreme-SSD/thesis/FLOTVIS/utils/utils.py\", line 7, in <module>\n",
      "    import matplotlib.pyplot as plt\n",
      "  File \"/Users/nick/.pyenv/versions/venv/lib/python3.6/site-packages/matplotlib/pyplot.py\", line 2349, in <module>\n",
      "    switch_backend(rcParams[\"backend\"])\n",
      "  File \"/Users/nick/.pyenv/versions/venv/lib/python3.6/site-packages/matplotlib/pyplot.py\", line 221, in switch_backend\n",
      "    backend_mod = importlib.import_module(backend_name)\n",
      "  File \"/Users/nick/.pyenv/versions/3.6.9/lib/python3.6/importlib/__init__.py\", line 126, in import_module\n",
      "    return _bootstrap._gcd_import(name[level:], package, level)\n",
      "ModuleNotFoundError: No module named 'matplotlib_inline'\n"
     ]
    }
   ],
   "metadata": {
    "colab": {
     "base_uri": "https://localhost:8080/"
    },
    "executionInfo": {
     "elapsed": 230559,
     "status": "ok",
     "timestamp": 1630832952913,
     "user": {
      "displayName": "user4856",
      "photoUrl": "https://lh3.googleusercontent.com/a-/AOh14GjGXgwWDSyceF9cChEBnStb3nIaSSfSUg9KMb6XNw=s64",
      "userId": "00128029891547034217"
     },
     "user_tz": -120
    },
    "id": "2ACSG85nV-mx",
    "outputId": "eb4414aa-7a32-438e-b556-c9a4df5b3b0d"
   }
  },
  {
   "cell_type": "code",
   "execution_count": 33,
   "source": [
    "%cd $cwd\n",
    "# predict single image\n",
    "#img = input('Input image filename:')\n",
    "!python3 main.py --mode='image' --img='test/test.jpg'"
   ],
   "outputs": [
    {
     "output_type": "stream",
     "name": "stdout",
     "text": [
      "/Volumes/Extreme-SSD/thesis/FLOTVIS\n",
      "Using TensorFlow backend.\n",
      "/Users/nick/.pyenv/versions/3.6.9/envs/venv/lib/python3.6/site-packages/tensorflow/python/framework/dtypes.py:493: FutureWarning: Passing (type, 1) or '1type' as a synonym of type is deprecated; in a future version of numpy, it will be understood as (type, (1,)) / '(1,)type'.\n",
      "  _np_qint8 = np.dtype([(\"qint8\", np.int8, 1)])\n",
      "/Users/nick/.pyenv/versions/3.6.9/envs/venv/lib/python3.6/site-packages/tensorflow/python/framework/dtypes.py:494: FutureWarning: Passing (type, 1) or '1type' as a synonym of type is deprecated; in a future version of numpy, it will be understood as (type, (1,)) / '(1,)type'.\n",
      "  _np_quint8 = np.dtype([(\"quint8\", np.uint8, 1)])\n",
      "/Users/nick/.pyenv/versions/3.6.9/envs/venv/lib/python3.6/site-packages/tensorflow/python/framework/dtypes.py:495: FutureWarning: Passing (type, 1) or '1type' as a synonym of type is deprecated; in a future version of numpy, it will be understood as (type, (1,)) / '(1,)type'.\n",
      "  _np_qint16 = np.dtype([(\"qint16\", np.int16, 1)])\n",
      "/Users/nick/.pyenv/versions/3.6.9/envs/venv/lib/python3.6/site-packages/tensorflow/python/framework/dtypes.py:496: FutureWarning: Passing (type, 1) or '1type' as a synonym of type is deprecated; in a future version of numpy, it will be understood as (type, (1,)) / '(1,)type'.\n",
      "  _np_quint16 = np.dtype([(\"quint16\", np.uint16, 1)])\n",
      "/Users/nick/.pyenv/versions/3.6.9/envs/venv/lib/python3.6/site-packages/tensorflow/python/framework/dtypes.py:497: FutureWarning: Passing (type, 1) or '1type' as a synonym of type is deprecated; in a future version of numpy, it will be understood as (type, (1,)) / '(1,)type'.\n",
      "  _np_qint32 = np.dtype([(\"qint32\", np.int32, 1)])\n",
      "/Users/nick/.pyenv/versions/3.6.9/envs/venv/lib/python3.6/site-packages/tensorflow/python/framework/dtypes.py:502: FutureWarning: Passing (type, 1) or '1type' as a synonym of type is deprecated; in a future version of numpy, it will be understood as (type, (1,)) / '(1,)type'.\n",
      "  np_resource = np.dtype([(\"resource\", np.ubyte, 1)])\n",
      "2021-09-18 21:17:39.139563: I tensorflow/core/platform/cpu_feature_guard.cc:137] Your CPU supports instructions that this TensorFlow binary was not compiled to use: SSE4.2 AVX AVX2 FMA\n",
      "model_data/trained_weights_stage_1.h5 model, anchors, and classes loaded.\n",
      "Traceback (most recent call last):\n",
      "  File \"main.py\", line 37, in <module>\n",
      "    mode = args.mode\n",
      "  File \"/Volumes/Extreme-SSD/thesis/FLOTVIS/yolo.py\", line 69, in __init__\n",
      "    \n",
      "  File \"/Volumes/Extreme-SSD/thesis/FLOTVIS/yolo.py\", line 142, in generate\n",
      "    return boxes, scores, classes\n",
      "AttributeError: 'YOLO' object has no attribute 'letterbox_image'\n"
     ]
    }
   ],
   "metadata": {}
  },
  {
   "cell_type": "code",
   "execution_count": null,
   "source": [
    "%cd $cwd\n",
    "# predict all images in folder\n",
    "!python3 main.py --mode='batch' --imgdir='./test/'"
   ],
   "outputs": [],
   "metadata": {}
  },
  {
   "cell_type": "code",
   "execution_count": null,
   "source": [
    "%cd $cwd\n",
    "# predict video\n",
    "!python3 main.py --mode='video' --vid='test/test.mp4'"
   ],
   "outputs": [],
   "metadata": {}
  },
  {
   "cell_type": "code",
   "execution_count": null,
   "source": [
    "%cd $cwd\n",
    "# predict using camera\n",
    "!python3 main.py --mode='camera'"
   ],
   "outputs": [],
   "metadata": {}
  },
  {
   "cell_type": "markdown",
   "source": [
    "# --- Train ---"
   ],
   "metadata": {}
  },
  {
   "cell_type": "markdown",
   "source": [
    "# Test"
   ],
   "metadata": {
    "id": "-YxseCS2js4c"
   }
  },
  {
   "cell_type": "code",
   "execution_count": null,
   "source": [
    "# reload all modules before execution\n",
    "%load_ext autoreload\n",
    "%autoreload 2\n",
    "# test\n",
    "%cd $cwd/\n",
    "!python test.py"
   ],
   "outputs": [],
   "metadata": {
    "colab": {
     "base_uri": "https://localhost:8080/"
    },
    "executionInfo": {
     "elapsed": 15710,
     "status": "ok",
     "timestamp": 1630722830149,
     "user": {
      "displayName": "user4856",
      "photoUrl": "https://lh3.googleusercontent.com/a-/AOh14GjGXgwWDSyceF9cChEBnStb3nIaSSfSUg9KMb6XNw=s64",
      "userId": "00128029891547034217"
     },
     "user_tz": -120
    },
    "id": "q21ZJ7_q7Dke",
    "outputId": "90ed325d-f282-460a-98ac-df1fdb32f505"
   }
  },
  {
   "cell_type": "markdown",
   "source": [
    "# Dataset Check"
   ],
   "metadata": {
    "id": "RbQcqHvxF8yN"
   }
  },
  {
   "cell_type": "code",
   "execution_count": null,
   "source": [
    "# simple script to evaluate the dataset integrity and consistency\n",
    "\n",
    "# create a new folder Allempty, means to use the xml file as \n",
    "# a reference for image checking, if the image does not have \n",
    "# corresponding xml file, then move it to Allempty folder\n",
    "\n",
    "%cd $cwd/VOCdevkit/VOC2007\n",
    "import os, shutil\n",
    "\n",
    "def checkJpgXml(dir1, dir2, dir3, is_move=True):\n",
    "    \"\"\"\n",
    "    dir1 is the folder where the image is located\n",
    "    dir2 is the folder where the annotation files are located\n",
    "    dir3 is created if the image does not have a corresponding xml file, then the image is put into dir3\n",
    "    is_move is to confirm whether to move or not, otherwise just print\n",
    "    \"\"\"\n",
    "    if not os.path.exists(dir3):\n",
    "        os.mkdir(dir3)\n",
    "    cnt = 0\n",
    "    for file in os.listdir(dir1):\n",
    "        f_name,f_ext = file.split(\".\")\n",
    "        if not os.path.exists(os.path.join(dir2, f_name+\".xml\")):\n",
    "            print(f_name)\n",
    "            if is_move:\n",
    "                cnt += 1\n",
    "                shutil.move(os.path.join(dir1,file), os.path.join(dir3, file))\n",
    "    if cnt > 0:\n",
    "        print(\"There are %d files that do not meet the requirements and have been printed.\"%(cnt))\n",
    "    else:\n",
    "        print(\"All images and corresponding xml files are one-to-one.\")\n",
    "\n",
    "if __name__ == \"__main__\":\n",
    "    dir1 = r\"JPEGImages\"\n",
    "    dir2 = r\"Annotations\"\n",
    "    dir3 = r\"Allempty\"\n",
    "    checkJpgXml(dir1, dir2, dir3, False)"
   ],
   "outputs": [],
   "metadata": {
    "colab": {
     "base_uri": "https://localhost:8080/"
    },
    "executionInfo": {
     "elapsed": 359,
     "status": "ok",
     "timestamp": 1630722834402,
     "user": {
      "displayName": "user4856",
      "photoUrl": "https://lh3.googleusercontent.com/a-/AOh14GjGXgwWDSyceF9cChEBnStb3nIaSSfSUg9KMb6XNw=s64",
      "userId": "00128029891547034217"
     },
     "user_tz": -120
    },
    "id": "bDgaeNnYFmeA",
    "outputId": "970be31f-a4a4-41a1-c3c2-bde792c1281f"
   }
  },
  {
   "cell_type": "code",
   "execution_count": null,
   "source": [
    "# number of images\n",
    "!echo 'number of images'; find $cwd/VOCdevkit/VOC2007/JPEGImages -type f | wc -l\n",
    "# number of labels (in .xml format)\n",
    "!echo 'number of labels'; find $cwd/VOCdevkit/VOC2007/Annotations -type f | wc -l"
   ],
   "outputs": [],
   "metadata": {
    "colab": {
     "base_uri": "https://localhost:8080/"
    },
    "executionInfo": {
     "elapsed": 14,
     "status": "ok",
     "timestamp": 1630722835186,
     "user": {
      "displayName": "user4856",
      "photoUrl": "https://lh3.googleusercontent.com/a-/AOh14GjGXgwWDSyceF9cChEBnStb3nIaSSfSUg9KMb6XNw=s64",
      "userId": "00128029891547034217"
     },
     "user_tz": -120
    },
    "id": "dEgtk-FzrYMu",
    "outputId": "f4bdc62b-b466-41a3-da28-1f58d62ab04f"
   }
  },
  {
   "cell_type": "code",
   "execution_count": null,
   "source": [
    "%cd $cwd/VOCdevkit/VOC2007/\n",
    "!python $cwd/VOCdevkit/VOC2007/voc2yolo4.py"
   ],
   "outputs": [],
   "metadata": {
    "colab": {
     "base_uri": "https://localhost:8080/"
    },
    "executionInfo": {
     "elapsed": 12,
     "status": "ok",
     "timestamp": 1630722835187,
     "user": {
      "displayName": "user4856",
      "photoUrl": "https://lh3.googleusercontent.com/a-/AOh14GjGXgwWDSyceF9cChEBnStb3nIaSSfSUg9KMb6XNw=s64",
      "userId": "00128029891547034217"
     },
     "user_tz": -120
    },
    "id": "tP9yQ_3ta6pj",
    "outputId": "c750139f-2e93-497c-8c03-fdad3b04c2ba"
   }
  },
  {
   "cell_type": "code",
   "execution_count": null,
   "source": [
    "%cd $cwd/\n",
    "!python voc_annotation.py"
   ],
   "outputs": [],
   "metadata": {
    "colab": {
     "base_uri": "https://localhost:8080/"
    },
    "executionInfo": {
     "elapsed": 398,
     "status": "ok",
     "timestamp": 1630722835577,
     "user": {
      "displayName": "user4856",
      "photoUrl": "https://lh3.googleusercontent.com/a-/AOh14GjGXgwWDSyceF9cChEBnStb3nIaSSfSUg9KMb6XNw=s64",
      "userId": "00128029891547034217"
     },
     "user_tz": -120
    },
    "id": "dRyl1qYZeogO",
    "outputId": "c8f4f92b-48a9-4384-8185-9ec8be95708b"
   }
  },
  {
   "cell_type": "code",
   "execution_count": null,
   "source": [
    "# k-means\n",
    "%cd $cwd/\n",
    "!python $cwd/kmeans_for_anchors.py\n",
    "!mv $cwd/model_data/yolo_anchors.txt $cwd/model_data/yolo_anchors.txt.bak\n",
    "!mv $cwd/yolo_anchors.txt $cwd/model_data/yolo_anchors.txt"
   ],
   "outputs": [],
   "metadata": {
    "colab": {
     "base_uri": "https://localhost:8080/"
    },
    "executionInfo": {
     "elapsed": 1348,
     "status": "ok",
     "timestamp": 1630722836921,
     "user": {
      "displayName": "user4856",
      "photoUrl": "https://lh3.googleusercontent.com/a-/AOh14GjGXgwWDSyceF9cChEBnStb3nIaSSfSUg9KMb6XNw=s64",
      "userId": "00128029891547034217"
     },
     "user_tz": -120
    },
    "id": "G35dnDQVADOh",
    "outputId": "fc484c15-93f8-443c-db7c-6c670b4477e5"
   }
  },
  {
   "cell_type": "code",
   "execution_count": null,
   "source": [
    "# vision for anchor\n",
    "%cd $cwd/\n",
    "!python ./vision_for_anchors.py"
   ],
   "outputs": [],
   "metadata": {
    "colab": {
     "base_uri": "https://localhost:8080/",
     "height": 0
    },
    "executionInfo": {
     "elapsed": 20,
     "status": "ok",
     "timestamp": 1630722836922,
     "user": {
      "displayName": "user4856",
      "photoUrl": "https://lh3.googleusercontent.com/a-/AOh14GjGXgwWDSyceF9cChEBnStb3nIaSSfSUg9KMb6XNw=s64",
      "userId": "00128029891547034217"
     },
     "user_tz": -120
    },
    "id": "FfS4TOAr-xYT",
    "outputId": "7bac460d-b642-46cc-dff3-8a3b682bb5cf"
   }
  },
  {
   "cell_type": "markdown",
   "source": [
    "# Train"
   ],
   "metadata": {}
  },
  {
   "cell_type": "code",
   "execution_count": null,
   "source": [
    "# check tensorflow version and active GPU device\n",
    "import tensorflow as tf\n",
    "print('tensorflow version is ', tf.__version__)\n",
    "tf.test.gpu_device_name() # '/device:GPU:0' means active GPU\n",
    "physical_devices = tf.config.list_physical_devices('GPU')\n",
    "print(\"Num GPUs:\", len(physical_devices))\n",
    "# allow GPU growth\n",
    "# See https://www.tensorflow.org/tutorials/using_gpu#allowing_gpu_memory_growth\n",
    "config = tf.ConfigProto()\n",
    "config.gpu_options.allow_growth = True"
   ],
   "outputs": [],
   "metadata": {
    "colab": {
     "base_uri": "https://localhost:8080/"
    },
    "executionInfo": {
     "elapsed": 537,
     "status": "ok",
     "timestamp": 1630618580255,
     "user": {
      "displayName": "user4856",
      "photoUrl": "https://lh3.googleusercontent.com/a-/AOh14GjGXgwWDSyceF9cChEBnStb3nIaSSfSUg9KMb6XNw=s64",
      "userId": "00128029891547034217"
     },
     "user_tz": -120
    },
    "id": "p7bDu1MLzuSJ",
    "outputId": "f591d1ae-4c16-4a6e-9fab-b93704b60d32"
   }
  },
  {
   "cell_type": "code",
   "execution_count": null,
   "source": [
    "# Load the TensorBoard notebook extension before training\n",
    "# in case of error, run: pip uninstall tensorboard-plugin-wit\n",
    "%load_ext tensorboard\n",
    "import tensorflow as tf\n",
    "import datetime, os\n",
    "%tensorboard --logdir train #--host localhost --port 8088\n",
    "\n",
    "from tensorboard import notebook\n",
    "notebook.list() # View open TensorBoard instances\n",
    "\n",
    "# Control TensorBoard display. If no port is provided, the most recently launched TensorBoard is used\n",
    "#notebook.display(port=8088, height=1000) "
   ],
   "outputs": [],
   "metadata": {
    "id": "oec1ORpj0gtw"
   }
  },
  {
   "cell_type": "code",
   "execution_count": null,
   "source": [
    "# train\n",
    "%cd $cwd\n",
    "!python train.py"
   ],
   "outputs": [],
   "metadata": {
    "colab": {
     "base_uri": "https://localhost:8080/"
    },
    "executionInfo": {
     "elapsed": 4938509,
     "status": "ok",
     "timestamp": 1630727833178,
     "user": {
      "displayName": "user4856",
      "photoUrl": "https://lh3.googleusercontent.com/a-/AOh14GjGXgwWDSyceF9cChEBnStb3nIaSSfSUg9KMb6XNw=s64",
      "userId": "00128029891547034217"
     },
     "user_tz": -120
    },
    "id": "QQDsjtzseyI4",
    "outputId": "1c5914af-67c2-4dc9-d159-e4c4a00cb51f"
   }
  },
  {
   "cell_type": "markdown",
   "source": [
    "# Evaluate"
   ],
   "metadata": {}
  },
  {
   "cell_type": "code",
   "execution_count": null,
   "source": [
    "%cd $cwd\n",
    "!python get_dr_txt.py"
   ],
   "outputs": [],
   "metadata": {
    "colab": {
     "base_uri": "https://localhost:8080/"
    },
    "executionInfo": {
     "elapsed": 35856,
     "status": "ok",
     "timestamp": 1630727869006,
     "user": {
      "displayName": "user4856",
      "photoUrl": "https://lh3.googleusercontent.com/a-/AOh14GjGXgwWDSyceF9cChEBnStb3nIaSSfSUg9KMb6XNw=s64",
      "userId": "00128029891547034217"
     },
     "user_tz": -120
    },
    "id": "aNdjnj5L2Ltf",
    "outputId": "97df2f29-8152-4b0a-e453-4ef1922050f8"
   }
  },
  {
   "cell_type": "code",
   "execution_count": null,
   "source": [
    "!python get_gt_txt.py"
   ],
   "outputs": [],
   "metadata": {
    "colab": {
     "base_uri": "https://localhost:8080/"
    },
    "executionInfo": {
     "elapsed": 23,
     "status": "ok",
     "timestamp": 1630727869008,
     "user": {
      "displayName": "user4856",
      "photoUrl": "https://lh3.googleusercontent.com/a-/AOh14GjGXgwWDSyceF9cChEBnStb3nIaSSfSUg9KMb6XNw=s64",
      "userId": "00128029891547034217"
     },
     "user_tz": -120
    },
    "id": "dpavLkR32XyH",
    "outputId": "dc985f58-b98e-4ebf-9441-753ea1f05fde"
   }
  },
  {
   "cell_type": "code",
   "execution_count": null,
   "source": [
    "!python get_map.py"
   ],
   "outputs": [],
   "metadata": {
    "colab": {
     "base_uri": "https://localhost:8080/"
    },
    "executionInfo": {
     "elapsed": 46000,
     "status": "ok",
     "timestamp": 1630727914999,
     "user": {
      "displayName": "user4856",
      "photoUrl": "https://lh3.googleusercontent.com/a-/AOh14GjGXgwWDSyceF9cChEBnStb3nIaSSfSUg9KMb6XNw=s64",
      "userId": "00128029891547034217"
     },
     "user_tz": -120
    },
    "id": "_DNRLlhP2c2y",
    "outputId": "e34bae11-1aff-42a7-be2e-20538b0b89fd"
   }
  }
 ],
 "metadata": {
  "colab": {
   "authorship_tag": "ABX9TyPTn6IA5xzGpap8el0NFrxi",
   "collapsed_sections": [
    "NqSHXmHxgRQL",
    "MHaivvzxgCGW",
    "-YxseCS2js4c",
    "RbQcqHvxF8yN",
    "HCHgiQmvfNGu",
    "xLb0GtWdOAZn",
    "aF3hPP_-yxh2",
    "ukLlMbMIZDXF",
    "GIXaFdDoGLxs",
    "bAR6OoGwteMF"
   ],
   "machine_shape": "hm",
   "mount_file_id": "1JMtM73wn2e_6NhaB6BR_IThM_DMbtoso",
   "name": "yolov4-keras-plastic.ipynb",
   "provenance": []
  },
  "kernelspec": {
   "name": "python3",
   "display_name": "Python 3.6.9 64-bit ('venv': pyenv)"
  },
  "language_info": {
   "codemirror_mode": {
    "name": "ipython",
    "version": 3
   },
   "file_extension": ".py",
   "mimetype": "text/x-python",
   "name": "python",
   "nbconvert_exporter": "python",
   "pygments_lexer": "ipython3",
   "version": "3.6.9"
  },
  "interpreter": {
   "hash": "adf2b3f2663c09d6bd36cc332bab3b6bc28161b214b08c0b71e435d554e3d861"
  }
 },
 "nbformat": 4,
 "nbformat_minor": 2
}